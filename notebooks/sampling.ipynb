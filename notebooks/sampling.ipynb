{
 "cells": [
  {
   "cell_type": "code",
   "execution_count": null,
   "metadata": {},
   "outputs": [],
   "source": [
    "import sys\n",
    "import os\n",
    "\n",
    "notebook_cwd = os.getcwd()\n",
    "src_path = os.path.join(notebook_cwd, '..')\n",
    "if src_path not in sys.path:\n",
    "    sys.path.append(src_path)\n"
   ]
  },
  {
   "cell_type": "code",
   "execution_count": null,
   "metadata": {},
   "outputs": [],
   "source": [
    "%matplotlib inline\n",
    "\n",
    "from dataclasses import replace\n",
    "\n",
    "import numpy as np\n",
    "\n",
    "from dataclasses import dataclass, replace, asdict\n",
    "\n",
    "import numpy as np\n",
    "from pydantic import BaseModel\n",
    "import matplotlib.pyplot as plt\n",
    "from ipywidgets import FloatSlider\n",
    "from ipywidgets import interact, interactive, fixed, interact_manual\n",
    "import ipywidgets as widgets\n",
    "\n",
    "from src.common_utils.custom_vars import InterferometerType, Wvn\n",
    "from src.common_utils.transmittance_response import TransmittanceResponse\n",
    "from src.direct_model.interferometer import interferometer_factory, Interferometer\n",
    "from src.outputs.visualization import SubplotsOptions, RcParamsOptions\n",
    "from src.demo.paper.sampling import SamplingOptionsSchema\n",
    "from src.demo.paper.sampling import visualize_all\n",
    "from src.demo.paper.sampling import dct_orthogonalize\n",
    "from src.demo.paper.sampling import plot_harmonic_orders\n",
    "from src.demo.paper.sampling import plot_condition_numbers\n",
    "\n",
    "\n"
   ]
  },
  {
   "cell_type": "code",
   "execution_count": null,
   "metadata": {},
   "outputs": [],
   "source": [
    "coefficient_threshold = 0.001\n",
    "\n",
    "fig, axs = plt.subplots(nrows=1, ncols=1, squeeze=False, figsize=(9, 7), tight_layout=False)\n",
    "fig, axs = plot_harmonic_orders(\n",
    "    fig,\n",
    "    axs[0, 0],\n",
    "    reflectivity_range=[0.0005, 0.85],\n",
    "    threshold=coefficient_threshold,\n",
    ")\n",
    "plt.show()\n"
   ]
  },
  {
   "cell_type": "code",
   "execution_count": null,
   "metadata": {},
   "outputs": [],
   "source": [
    "def update_plot(reflectance_scalar):\n",
    "    sampling_options_schema = {\n",
    "        \"device\": {\n",
    "            \"type\": InterferometerType.FABRY_PEROT,\n",
    "            \"reflectance_scalar\": reflectance_scalar,\n",
    "            \"opds\": {\n",
    "                \"num\": 51,\n",
    "                \"step\": 0.2,\n",
    "            },\n",
    "        },\n",
    "        \"spectral_range\": {\n",
    "            \"min\": 1.,\n",
    "            \"max\": 2.5,\n",
    "        },\n",
    "    }\n",
    "    options = SamplingOptionsSchema(**sampling_options_schema)\n",
    "    experiment = options.create_experiment()\n",
    "    transfer_matrix = experiment.transfer_matrix()\n",
    "\n",
    "    fig, axs = plt.subplots(nrows=2, ncols=2, squeeze=False, figsize=(9, 6), tight_layout=False)\n",
    "    fig, axs = visualize_all(\n",
    "        fig, axs,\n",
    "        transfer_matrix=transfer_matrix,\n",
    "        opd_idx=49,\n",
    "        linewidth=1.5,\n",
    "        dct_orthogonalize_kwargs={\"device_type\": options.device.type, \"reflectance\": options.device.reflectance_scalar},\n",
    "    )\n",
    "    plt.show()\n",
    "\n",
    "reflectance_slider = FloatSlider(min=0.01, max=0.950, step=0.01, value=0.95, description='Reflectance Scalar:')\n",
    "interactive_plot = interactive(update_plot, reflectance_scalar=reflectance_slider)\n",
    "output = interactive_plot.children[-1]\n",
    "output.layout.height = '800px'\n",
    "interactive_plot\n"
   ]
  },
  {
   "cell_type": "code",
   "execution_count": null,
   "metadata": {},
   "outputs": [],
   "source": [
    "opd_schema = {\"num\": 51, \"step\": 0.175}\n",
    "\n",
    "fig, axs = plt.subplots(nrows=1, ncols=1, squeeze=False, figsize=(6, 4), tight_layout=False)\n",
    "fig, axs = plot_condition_numbers(\n",
    "    fig,\n",
    "    axs[0, 0],\n",
    "    opd_schema=opd_schema,\n",
    "    reflectivity_range=(0.4, 0.9, 0.01),\n",
    ")\n",
    "plt.show()\n"
   ]
  }
 ],
 "metadata": {
  "kernelspec": {
   "display_name": "inverspyctrometry-NrHlAC_P-py3.10",
   "language": "python",
   "name": "python3"
  },
  "language_info": {
   "codemirror_mode": {
    "name": "ipython",
    "version": 3
   },
   "file_extension": ".py",
   "mimetype": "text/x-python",
   "name": "python",
   "nbconvert_exporter": "python",
   "pygments_lexer": "ipython3",
   "version": "3.10.12"
  }
 },
 "nbformat": 4,
 "nbformat_minor": 2
}
