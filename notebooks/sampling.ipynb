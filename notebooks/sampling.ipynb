{
 "cells": [
  {
   "cell_type": "code",
   "execution_count": 2,
   "metadata": {},
   "outputs": [],
   "source": [
    "%matplotlib inline\n"
   ]
  },
  {
   "cell_type": "code",
   "execution_count": null,
   "metadata": {},
   "outputs": [],
   "source": [
    "from src.common_utils.custom_vars import InterferometerType\n",
    "\n",
    "\n",
    "sampling_options_schema = {\n",
    "    \"opds\": {\n",
    "        \"num\": 51,\n",
    "        \"step\": 0.2,\n",
    "    },\n",
    "    \"wavenumbers\": {\n",
    "        \"start\": 1.,\n",
    "        \"stop\": 2.5,\n",
    "        \"override_harmonic_order\": -1,\n",
    "    },\n",
    "    \"interferometer\": {\n",
    "        \"device_type\": InterferometerType.MICHELSON,\n",
    "        \"reflectance_scalar\": 0.5,\n",
    "    },\n",
    "}\n"
   ]
  }
 ],
 "metadata": {
  "kernelspec": {
   "display_name": "inverspyctrometry-NrHlAC_P-py3.10",
   "language": "python",
   "name": "python3"
  },
  "language_info": {
   "codemirror_mode": {
    "name": "ipython",
    "version": 3
   },
   "file_extension": ".py",
   "mimetype": "text/x-python",
   "name": "python",
   "nbconvert_exporter": "python",
   "pygments_lexer": "ipython3",
   "version": "3.10.12"
  }
 },
 "nbformat": 4,
 "nbformat_minor": 2
}
