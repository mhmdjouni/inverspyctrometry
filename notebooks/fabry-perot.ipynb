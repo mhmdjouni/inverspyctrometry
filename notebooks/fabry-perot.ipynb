{
 "cells": [
  {
   "cell_type": "markdown",
   "metadata": {},
   "source": [
    "# Multiplex Fabry-Perot interferometer\n",
    "\n",
    "This notebook implements the model of a FP interferometer as described in the paper \"Multiplex Fabry-Perot interferometer: I. Theory\" by William B. Cook, Hilary E. Snell and Paul B. Hays, Applied optics 1995. Some of the figures in the paper are reproduced below.\n",
    "\n",
    "The model considered for the FPI is the following.\n",
    "\n",
    "$$I(x) = \\int_0^\\infty B(\\sigma)d\\sigma + 2 \\int_0^\\infty B(\\sigma) \\sum_{n=1}^\\infty R^n cos(2 \\pi n \\sigma x) d\\sigma $$\n"
   ]
  },
  {
   "cell_type": "code",
   "execution_count": null,
   "metadata": {},
   "outputs": [],
   "source": [
    "# ! pip install matplotlib\n",
    "# ! pip install ipywidgets"
   ]
  },
  {
   "cell_type": "code",
   "execution_count": null,
   "metadata": {},
   "outputs": [],
   "source": [
    "import numpy as np\n",
    "import matplotlib.pyplot as plt\n",
    "from scipy import fft\n",
    "\n",
    "from ipywidgets import interact, fixed\n",
    "import ipywidgets as widgets\n",
    "\n",
    "from scipy.stats import norm\n"
   ]
  },
  {
   "cell_type": "code",
   "execution_count": null,
   "metadata": {},
   "outputs": [],
   "source": [
    "# define the value of some parameters\n",
    "sigma0 = 2600  # [cm^-1] center wave number\n",
    "R = 0.9 # plate reflectivity\n",
    "# x = 0.0083 # OPD\n",
    "\n",
    "# x = np.linspace(0, 2*np.pi)\n",
    "x = np.arange(0, 0.02, 0.0001)\n",
    "\n",
    "# sigma = np.arange(0, 0.02, 0.0001)\n",
    "# print(x)"
   ]
  },
  {
   "cell_type": "code",
   "execution_count": null,
   "metadata": {},
   "outputs": [],
   "source": [
    "# Spectrum of a Gaussian source centered in sigma0\n",
    "hwhm = 30 # [cm^-1]\n",
    "fwhm = 2*hwhm\n",
    "std = fwhm/(2*np.sqrt(2*np.log2(2)))\n",
    "\n",
    "\n",
    "#initialize a normal distribution with frozen in mean=-1, std. dev.= 1\n",
    "gauss_src = norm(loc = sigma0, scale = std)\n",
    "\n",
    "sigma_step = 0.5 # [cm^-1]\n",
    "sigma_nsamples = 500\n",
    "sigma = np.arange(sigma0-sigma_nsamples*sigma_step, sigma0+sigma_nsamples*sigma_step, sigma_step)\n",
    "\n",
    "B = gauss_src.pdf(sigma)\n",
    "\n",
    "#plot the pdfs of these normal distributions \n",
    "plt.figure(figsize=[20,2])  \n",
    "plt.plot(sigma, B)\n",
    "plt.xlabel(\"Wavenumber [cm$^{-1}$]\")\n",
    "plt.show()"
   ]
  },
  {
   "cell_type": "code",
   "execution_count": null,
   "metadata": {},
   "outputs": [],
   "source": [
    "# Functions that will be used in the following\n",
    "def fp_tfun(sigma, x, R, N, B=np.ones(sigma.shape), phase=0):\n",
    "    '''Transfer function of a Fabry-Perot intereferometer'''\n",
    "    # sigma: wavenumber samples\n",
    "    # x: OPD\n",
    "    # R: reflectivity of the plates\n",
    "    # N: number of waves in the model\n",
    "    # phase: phase term\n",
    "\n",
    "    I = np.zeros(sigma.shape)\n",
    "    \n",
    "    for n in range(N):\n",
    "        I = I + R**(n+1) * B * np.cos(2*np.pi*(n+1)*x*(sigma-phase))\n",
    "\n",
    "    return I\n",
    "\n",
    "\n",
    "def fpi (B, sigma, x, R, N):\n",
    "    \"\"\"Compute a Fabry-Perot interferogram\"\"\"\n",
    "\n",
    "    I = np.zeros(x.shape)\n",
    "\n",
    "    # loop on the reflected wave \n",
    "    for i, xi in enumerate(x):\n",
    "        for n in range(N):\n",
    "            I[i] = I[i] + R**(n+1) * B @ np.cos(2*np.pi*(n+1)*sigma*xi).T\n",
    "\n",
    "    return I\n"
   ]
  },
  {
   "cell_type": "markdown",
   "metadata": {},
   "source": [
    "Plot the transfer function of the FPI wrt to different values of thickness, reflectivity and number of waves. \n",
    "The transfer function in the wavenumber domain is superimposed to the input source."
   ]
  },
  {
   "cell_type": "code",
   "execution_count": null,
   "metadata": {},
   "outputs": [],
   "source": [
    "\n",
    "# sigma = np.arange(0, 0.02, 0.0001)\n",
    "sigma_step = 0.5 # [cm^-1]\n",
    "sigma_nsamples = 500\n",
    "sigma = np.arange(sigma0-sigma_nsamples*sigma_step, sigma0+sigma_nsamples*sigma_step, sigma_step)\n",
    "\n",
    "gauss_src = norm(loc = sigma0, scale = std)\n",
    "B = gauss_src.pdf(sigma)\n",
    "\n",
    "def plot_fpi_tfun(opd, R=0.9, N=10, sigma=sigma, B=None):\n",
    "    \n",
    "    y = fp_tfun(sigma=sigma, x=opd, R=R, N=N, B=np.ones(sigma.shape), phase=sigma0)\n",
    "\n",
    "    # Normalize the function\n",
    "    if opd != 0:\n",
    "        y = y-y.min()\n",
    "        y = y/y.max()\n",
    "    \n",
    "    plt.figure(figsize=[20,5])\n",
    "    plt.plot(sigma, y)\n",
    "    if B.all():\n",
    "        plt.plot(sigma, B/B.max(), 'r')\n",
    "    plt.title(f'FP transfer function - OPD={opd:0.4f} [cm$^{-1}$], R={R:0.2f}, N={N}')\n",
    "    plt.ylim(-0.5,+1.5)\n",
    "    plt.xlabel('Wavenumber [cm$^{-1}$]')\n",
    "    plt.show()\n",
    "\n",
    "# plot_fpi_tfun(0.0083)    \n",
    "\n",
    "interact(plot_fpi_tfun, \n",
    "         opd = widgets.FloatSlider(value=0.0083, min=0, max=0.04, step=0.0001), \n",
    "         R = widgets.FloatSlider(value=0.9, min=0, max=0.99, step=0.01), \n",
    "         N = widgets.IntSlider(value=100, min=2, max=100, step=1),\n",
    "         sigma=fixed(sigma),\n",
    "         B=fixed(B)\n",
    "         )\n",
    "plt.show()\n"
   ]
  },
  {
   "cell_type": "markdown",
   "metadata": {},
   "source": [
    "Plot the interferogram of the input source.\n",
    "Possible to change the central wavenumber of the input source."
   ]
  },
  {
   "cell_type": "code",
   "execution_count": null,
   "metadata": {},
   "outputs": [],
   "source": [
    "# x = 0.0083 # OPD\n",
    "# x = np.arange(0, 0.02, 0.00001)\n",
    "# I = fpi(B, sigma, x, R=0.3, N=10)\n",
    "\n",
    "# plt.figure(figsize=[20,5])\n",
    "# plt.plot(x, I)\n",
    "\n",
    "def plot_fpi(R=0.9, N=10, sigma0=2600):\n",
    "\n",
    "    fwhm = 30 # [cm^-1]\n",
    "    std = fwhm/(2*np.sqrt(2*np.log2(2)))\n",
    "\n",
    "\n",
    "    #initialize a normal distribution with frozen in mean=-1, std. dev.= 1\n",
    "    gauss_src = norm(loc = sigma0, scale = std)\n",
    "\n",
    "    sigma_step = 0.5 # [cm^-1]\n",
    "    sigma_nsamples = 500\n",
    "    sigma = np.arange(sigma0-sigma_nsamples*sigma_step, sigma0+sigma_nsamples*sigma_step, sigma_step)\n",
    "\n",
    "    B = gauss_src.pdf(sigma)\n",
    " \n",
    "    opds = np.arange(0, 0.02, 0.00001)\n",
    "    \n",
    "    y = fpi(B=B, sigma=sigma, x=opds, R=R, N=N)\n",
    "\n",
    "    yf = fft.dct(y)\n",
    "    \n",
    "    plt.figure(figsize=[20,3])\n",
    "    plt.plot(opds, y)\n",
    "    plt.title(f'FP interferogram - R={R:0.2f}, N={N}')\n",
    "    # plt.ylim(-2,+25)\n",
    "    plt.xlabel('OPD [cm?]')\n",
    "    plt.show()\n",
    "\n",
    "    plt.figure(figsize=[20,3])\n",
    "    plt.plot(yf)\n",
    "    plt.title(f'Spectrum of the FP interferogram - R={R:0.2f}, N={N}')\n",
    "    # plt.ylim(-2,+25)\n",
    "    plt.xlabel('frequency')\n",
    "    plt.show()\n",
    "\n",
    "# plot_fpi_tfun(0.0083)    \n",
    "\n",
    "interact(plot_fpi, \n",
    "         sigma0 = widgets.FloatSlider(value=2600, min=1000, max=4000, step=10), \n",
    "         R = widgets.FloatSlider(value=0.9, min=0, max=0.99, step=0.01), \n",
    "         N = widgets.IntSlider(value=90, min=2, max=100, step=1))"
   ]
  }
 ],
 "metadata": {
  "kernelspec": {
   "display_name": "research",
   "language": "python",
   "name": "python3"
  },
  "language_info": {
   "codemirror_mode": {
    "name": "ipython",
    "version": 3
   },
   "file_extension": ".py",
   "mimetype": "text/x-python",
   "name": "python",
   "nbconvert_exporter": "python",
   "pygments_lexer": "ipython3",
   "version": "3.10.12"
  }
 },
 "nbformat": 4,
 "nbformat_minor": 2
}
