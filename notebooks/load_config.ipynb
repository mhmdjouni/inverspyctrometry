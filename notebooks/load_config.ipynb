{
 "cells": [
  {
   "cell_type": "code",
   "execution_count": null,
   "metadata": {},
   "outputs": [],
   "source": [
    "import sys\n",
    "import os\n",
    "\n",
    "notebook_cwd = os.getcwd()\n",
    "src_path = os.path.join(notebook_cwd, '..')\n",
    "if src_path not in sys.path:\n",
    "    sys.path.append(src_path)\n"
   ]
  },
  {
   "cell_type": "markdown",
   "metadata": {},
   "source": [
    "# Imports"
   ]
  },
  {
   "cell_type": "code",
   "execution_count": null,
   "metadata": {},
   "outputs": [],
   "source": [
    "from pprint import pprint\n",
    "\n",
    "import numpy as np\n",
    "import matplotlib.pyplot as plt\n",
    "\n",
    "from src.interface.configuration import load_config\n",
    "\n",
    "%matplotlib inline\n"
   ]
  },
  {
   "cell_type": "code",
   "execution_count": null,
   "metadata": {},
   "outputs": [],
   "source": [
    "def print_attributes(cls, title: str = \"Class Attributes\"):\n",
    "    print(f\"\\n{title}\")\n",
    "    for attribute, path in cls.__dict__.items():\n",
    "        print(f\"- {attribute}: {path}\")\n"
   ]
  },
  {
   "cell_type": "markdown",
   "metadata": {},
   "source": [
    "# Loading project configuration"
   ]
  },
  {
   "cell_type": "code",
   "execution_count": null,
   "metadata": {},
   "outputs": [],
   "source": [
    "config = load_config()\n",
    "directories_paths = config.directory_paths\n",
    "json_paths = config.database_paths\n",
    "\n",
    "print(f\"\\nProject Path: {directories_paths.project}\")\n",
    "print_attributes(cls=directories_paths, title=\"Directory Paths:\")    \n",
    "print_attributes(cls=json_paths, title=\"Database JSON File Paths:\")   "
   ]
  },
  {
   "cell_type": "markdown",
   "metadata": {},
   "source": [
    "# Opening / Loading the Database"
   ]
  },
  {
   "cell_type": "code",
   "execution_count": null,
   "metadata": {},
   "outputs": [],
   "source": [
    "database = config.database()\n",
    "\n",
    "print(\"Database \\\"Tables\\\":\")\n",
    "for attribute in database.__dict__.keys():\n",
    "    print(f\"- {attribute}\")\n",
    "    "
   ]
  },
  {
   "cell_type": "markdown",
   "metadata": {},
   "source": [
    "## Loading an interferometric device\n",
    "\n",
    "An interferometric device is represented by the ```Interferometer``` class children:\n",
    "* Michelson Interferometer: ```MichelsonInterferometer```\n",
    "* Fabry-Perot Interferometer: ```FabryPerotInterferometer```\n",
    "\n",
    "Each interferometric device is characterized  / parametrized by the following parameters:\n",
    "* Transmittance coefficients (polynomial coefficients): ```transmittance_coefficients```\n",
    "* Reflectivity coefficients (polynomial coefficients): ```reflectance_coefficients```\n",
    "* Optical Path Differences (OPD): ```opds```\n",
    "* Phase shifts: ```phase_shift```\n",
    "\n",
    "It is possible to store the parameters of an interferometric device in two ways:\n",
    "* By directly registering their values in the ```JSON``` file (useful for simulations and easy / free manipulations), which is ```interferometers.json```. In this case, it is also possible to freely choose the harmonic_order of a Fabry-Perot device.\n",
    "* By storing the values in ```.npy``` files (useful when loading characterizations parametrized from real devices), which is ```characterizations.json``` [1].\n",
    "\n",
    "After that, the database is used to generate an ```Interferometer``` object.\n",
    "\n",
    "In the database, it is specified whether an interferometer record is of type Michelson or Fabry-Perot.\n",
    "\n",
    "*[1] Picone, Daniele, et al. \"Interferometer response characterization algorithm for multi-aperture Fabry-Perot imaging spectrometers.\" Optics Express 31.14 (2023): 23066-23085.*"
   ]
  },
  {
   "cell_type": "markdown",
   "metadata": {},
   "source": [
    "### Loading from the interferometers option"
   ]
  },
  {
   "cell_type": "code",
   "execution_count": null,
   "metadata": {},
   "outputs": [],
   "source": [
    "interferometer_id = 4\n",
    "\n",
    "interferometer = database.interferometer(interferometer_id=interferometer_id)\n",
    "\n",
    "plt.plot(interferometer.opds)"
   ]
  },
  {
   "cell_type": "markdown",
   "metadata": {},
   "source": [
    "### Loading from the characterizations option"
   ]
  },
  {
   "cell_type": "code",
   "execution_count": null,
   "metadata": {},
   "outputs": [],
   "source": [
    "characterization_id = 0\n",
    "\n",
    "characterization = database.characterization(characterization_id=characterization_id)\n",
    "interferometer = characterization.interferometer()\n",
    "\n",
    "plt.plot(interferometer.opds)"
   ]
  },
  {
   "cell_type": "markdown",
   "metadata": {},
   "source": [
    "## Loading a dataset\n",
    "\n",
    "A dataset can be loaded using the dataset id.\n",
    "\n",
    "There are two categories of datasets:\n",
    "* Spectrum datasets\n",
    "* Interferogram datasets\n",
    "\n",
    "Spectrum datasets are represented by the ```Spectrum``` class, containing the following attributes:\n",
    "* Data: ```data```\n",
    "* Corresponding wavenumbers: ```wavenumbers```\n",
    "* Wavenumbers unit: ```wavenumbers_unit```\n",
    "\n",
    "Interferogram datasets are represented by the ```Interferogram``` class, containing the following attributes:\n",
    "* Data: ```data```\n",
    "* Corresponding Optical Path Differences (OPDs): ```opds```\n",
    "* OPDs unit: ```opds_unit```\n",
    "\n",
    "The following code snippet is used to load a dataset from the database.\n",
    "The method returns a ```Spectrum``` or an ```Interferogram``` based on the category of the dataset record in the database."
   ]
  },
  {
   "cell_type": "code",
   "execution_count": null,
   "metadata": {},
   "outputs": [],
   "source": [
    "dataset_id = 1\n",
    "\n",
    "dataset = database.dataset(dataset_id=dataset_id)\n",
    "\n",
    "print(f\"\\nDataset shape: {dataset.data.shape}\")\n",
    "\n",
    "fig, axs = plt.subplots(1, 1, squeeze=False)\n",
    "dataset.visualize(axs=axs[0, 0], acq_ind=13)"
   ]
  },
  {
   "cell_type": "code",
   "execution_count": null,
   "metadata": {},
   "outputs": [],
   "source": [
    "dataset_id = 3\n",
    "\n",
    "dataset = database.dataset(dataset_id=dataset_id)\n",
    "\n",
    "print(f\"\\nDataset shape: {dataset.data.shape}\")\n",
    "\n",
    "fig, axs = plt.subplots(1, 1, squeeze=False)\n",
    "dataset.visualize(axs=axs[0, 0], acq_ind=13)"
   ]
  },
  {
   "cell_type": "markdown",
   "metadata": {},
   "source": [
    "It is also possible to load the central wavenumbers directly:\n",
    "* For spectrum datasets, this simply represents the corresponding wavenumbers samples.\n",
    "* For interferogram datasets, if exists, this refers to the wavenumbers used in the instrument line shape of the device [1].\n",
    "\n",
    "*[1] Picone, Daniele, et al. \"Interferometer response characterization algorithm for multi-aperture Fabry-Perot imaging spectrometers.\" Optics Express 31.14 (2023): 23066-23085.*"
   ]
  },
  {
   "cell_type": "code",
   "execution_count": null,
   "metadata": {},
   "outputs": [],
   "source": [
    "dataset_id = 1\n",
    "\n",
    "wavenumbers = database.dataset_central_wavenumbers(dataset_id=dataset_id)\n",
    "\n",
    "print(f\"Central wavenumbers length: {wavenumbers.size}\")"
   ]
  },
  {
   "cell_type": "markdown",
   "metadata": {},
   "source": [
    "## Loading an inversion protocol\n",
    "\n",
    "The inversion protocol is represented by the ```InversionProtocol``` class.\n",
    "The supported inversion protocol types are:\n",
    "* The Inverse Discrete Cosine Transform (IDCT): ```IDCT```\n",
    "* The Moore-Penrose inverse (pseudo-inverse): ```PseudoInverse```\n",
    "* The Truncated Singular Value Decomposition (TSVD): ```TSVD```\n",
    "* The Tikhonov regularization / Ridge Regression (RR): ```RidgeRegression```\n",
    "* The Loris-Verhoeven (LV) algorithm: ```LorisVerhoeven```\n",
    "\n",
    "In the database, a range of regularization parameters is provided for each inversion protocol record (the number of parameters can also be one). Thus, generally speaking, when loading the inversion protocol from the database, a list of the ```InversionProtocol``` class objects is provided, of the same inversion protocol type, each with a different regularization parameter."
   ]
  },
  {
   "cell_type": "code",
   "execution_count": null,
   "metadata": {},
   "outputs": [],
   "source": [
    "inv_protocol_id = 2\n",
    "\n",
    "inv_protocols = database.inversion_protocol_list(inv_protocol_id=inv_protocol_id)\n",
    "\n",
    "print(f\"Number of inversion protocols: {len(inv_protocols)}\")\n",
    "print(f\"Type of inversion protocol: {type(inv_protocols[0])}\")"
   ]
  },
  {
   "cell_type": "markdown",
   "metadata": {},
   "source": [
    "It is also possible to:\n",
    "* Load an inversion protocol with a specific regularization parameter.\n",
    "* Load only the array of regularization parameters."
   ]
  },
  {
   "cell_type": "code",
   "execution_count": null,
   "metadata": {},
   "outputs": [],
   "source": [
    "inv_protocol_id = 2\n",
    "\n",
    "reg_param = 0.6\n",
    "inv_protocol = database.inversion_protocol(inv_protocol_id=inv_protocol_id, lambdaa=reg_param)\n",
    "print(f\"\\nInversion Protocol with a chosen regularization parameter:\")\n",
    "print(f\"- Type: {type(inv_protocol)}\")\n",
    "print(f\"- Info: {inv_protocol}\")\n",
    "\n",
    "reg_params_array = database.inversion_protocol_lambdaas(inv_protocol_id=inv_protocol_id)\n",
    "print(f\"\\nRange of regularization parameters:\\n{np.round(reg_params_array, decimals=3)}\")"
   ]
  }
 ],
 "metadata": {
  "kernelspec": {
   "display_name": "inverspyctrometry-NrHlAC_P-py3.10",
   "language": "python",
   "name": "python3"
  },
  "language_info": {
   "codemirror_mode": {
    "name": "ipython",
    "version": 3
   },
   "file_extension": ".py",
   "mimetype": "text/x-python",
   "name": "python",
   "nbconvert_exporter": "python",
   "pygments_lexer": "ipython3",
   "version": "3.10.12"
  }
 },
 "nbformat": 4,
 "nbformat_minor": 2
}
